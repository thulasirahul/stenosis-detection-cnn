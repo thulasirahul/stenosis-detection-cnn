{
 "cells": [
  {
   "cell_type": "code",
   "execution_count": 1,
   "id": "a7d1545a",
   "metadata": {
    "_cell_guid": "b1076dfc-b9ad-4769-8c92-a6c4dae69d19",
    "_kg_hide-input": false,
    "_kg_hide-output": true,
    "_uuid": "8f2839f25d086af736a60e9eeb907d3b93b6e0e5",
    "papermill": {
     "duration": 5.639426,
     "end_time": "2024-01-17T14:00:27.343662",
     "exception": false,
     "start_time": "2024-01-17T14:00:21.704236",
     "status": "completed"
    },
    "scrolled": true,
    "tags": []
   },
   "outputs": [],
   "source": [
    "\n",
    "\n",
    "import numpy as np # linear algebra\n",
    "import pandas as pd # data processing, CSV file I/O (e.g. pd.read_csv)\n",
    "\n"
   ]
  },
  {
   "cell_type": "code",
   "execution_count": 2,
   "id": "9afe556f",
   "metadata": {
    "papermill": {
     "duration": 13.144824,
     "end_time": "2024-01-17T14:00:40.504621",
     "exception": false,
     "start_time": "2024-01-17T14:00:27.359797",
     "status": "completed"
    },
    "tags": []
   },
   "outputs": [],
   "source": [
    "import os\n",
    "import tensorflow as tf\n",
    "from tensorflow import keras\n",
    "from tensorflow.keras.optimizers import Adam\n",
    "from sklearn.model_selection import train_test_split\n",
    "from tensorflow.keras.metrics import categorical_crossentropy\n",
    "from tensorflow.keras.models import Model, load_model, Sequential\n",
    "from sklearn.metrics import confusion_matrix, classification_report\n",
    "from tensorflow.keras.preprocessing.image import ImageDataGenerator\n",
    "from tensorflow.keras.layers import Conv2D, MaxPooling2D, Flatten, Dense, Activation, Dropout, BatchNormalization"
   ]
  },
  {
   "cell_type": "code",
   "execution_count": 3,
   "id": "14236ad0",
   "metadata": {
    "papermill": {
     "duration": 0.02302,
     "end_time": "2024-01-17T14:00:40.540835",
     "exception": false,
     "start_time": "2024-01-17T14:00:40.517815",
     "status": "completed"
    },
    "tags": []
   },
   "outputs": [],
   "source": [
    "def define_paths(dir):\n",
    "    filepaths = []\n",
    "    labels = []\n",
    "    folds = os.listdir(dir)\n",
    "    for fold in folds:\n",
    "        foldpath = os.path.join(dir, fold)\n",
    "        filelist = os.listdir(foldpath)\n",
    "        for file in filelist:\n",
    "            fpath = os.path.join(foldpath, file)\n",
    "            filepaths.append(fpath)\n",
    "            labels.append(fold)\n",
    "    return filepaths, labels\n",
    "\n",
    "\n",
    "def define_df(files, classes):\n",
    "    Fseries = pd.Series(files, name= 'filepaths')\n",
    "    Lseries = pd.Series(classes, name='labels')\n",
    "    return pd.concat([Fseries, Lseries], axis= 1)\n",
    "\n",
    "\n",
    "def create_df(dir):\n",
    "    files, classes = define_paths(dir)\n",
    "    df = define_df(files, classes)\n",
    "    return df"
   ]
  },
  {
   "cell_type": "code",
   "execution_count": 4,
   "id": "75dc3869",
   "metadata": {
    "papermill": {
     "duration": 3.639549,
     "end_time": "2024-01-17T14:00:44.193119",
     "exception": false,
     "start_time": "2024-01-17T14:00:40.553570",
     "status": "completed"
    },
    "tags": []
   },
   "outputs": [
    {
     "name": "stdout",
     "output_type": "stream",
     "text": [
      "Found 1586 validated image filenames belonging to 4 classes.\n",
      "Found 199 validated image filenames belonging to 4 classes.\n",
      "Found 198 validated image filenames belonging to 4 classes.\n"
     ]
    }
   ],
   "source": [
    "def create_gens(train_df, valid_df, test_df, batch_size):\n",
    "    img_size = (224, 224)\n",
    "    channels = 3\n",
    "    img_shape = (img_size[0], img_size[1], channels)\n",
    "    ts_length = len(test_df)\n",
    "    def scalar(img):\n",
    "        return img\n",
    "    tr_gen = ImageDataGenerator(preprocessing_function= scalar, horizontal_flip= True)\n",
    "    ts_gen = ImageDataGenerator(preprocessing_function= scalar)\n",
    "    train_gen = tr_gen.flow_from_dataframe( train_df, x_col= 'filepaths', y_col= 'labels', target_size= img_size, class_mode= 'categorical',\n",
    "                                        color_mode= 'rgb', shuffle= True, batch_size= 40)\n",
    "    valid_gen = ts_gen.flow_from_dataframe( valid_df, x_col= 'filepaths', y_col= 'labels', target_size= img_size, class_mode= 'categorical',\n",
    "                                        color_mode= 'rgb', shuffle= True, batch_size= 40)\n",
    "    test_gen = ts_gen.flow_from_dataframe( test_df, x_col= 'filepaths', y_col= 'labels', target_size= img_size, class_mode= 'categorical',\n",
    "                                        color_mode= 'rgb', shuffle= False, batch_size= 40)\n",
    "    return train_gen, valid_gen, test_gen\n",
    "\n",
    "\n",
    "dir = 'datasets/train'\n",
    "\n",
    "df = create_df(dir)\n",
    "train_df, test_valid_df = train_test_split(df, test_size=0.2, random_state=42)\n",
    "test_df, valid_df = train_test_split(test_valid_df, test_size=0.5, random_state=42)\n",
    "\n",
    "# Get Generators\n",
    "batch_size = 32\n",
    "train_gen, valid_gen, test_gen = create_gens(train_df, valid_df, test_df, batch_size)"
   ]
  },
  {
   "cell_type": "code",
   "execution_count": 5,
   "id": "e711f1fe",
   "metadata": {
    "_kg_hide-input": false,
    "_kg_hide-output": true,
    "papermill": {
     "duration": 0.030318,
     "end_time": "2024-01-17T14:00:44.237026",
     "exception": false,
     "start_time": "2024-01-17T14:00:44.206708",
     "status": "completed"
    },
    "scrolled": true,
    "tags": []
   },
   "outputs": [
    {
     "data": {
      "text/html": [
       "<div>\n",
       "<style scoped>\n",
       "    .dataframe tbody tr th:only-of-type {\n",
       "        vertical-align: middle;\n",
       "    }\n",
       "\n",
       "    .dataframe tbody tr th {\n",
       "        vertical-align: top;\n",
       "    }\n",
       "\n",
       "    .dataframe thead th {\n",
       "        text-align: right;\n",
       "    }\n",
       "</style>\n",
       "<table border=\"1\" class=\"dataframe\">\n",
       "  <thead>\n",
       "    <tr style=\"text-align: right;\">\n",
       "      <th></th>\n",
       "      <th>filepaths</th>\n",
       "      <th>labels</th>\n",
       "    </tr>\n",
       "  </thead>\n",
       "  <tbody>\n",
       "    <tr>\n",
       "      <th>720</th>\n",
       "      <td>datasets/train\\moderate\\mo (432).png</td>\n",
       "      <td>moderate</td>\n",
       "    </tr>\n",
       "    <tr>\n",
       "      <th>480</th>\n",
       "      <td>datasets/train\\moderate\\mo (216).png</td>\n",
       "      <td>moderate</td>\n",
       "    </tr>\n",
       "    <tr>\n",
       "      <th>567</th>\n",
       "      <td>datasets/train\\moderate\\mo (295).png</td>\n",
       "      <td>moderate</td>\n",
       "    </tr>\n",
       "    <tr>\n",
       "      <th>71</th>\n",
       "      <td>datasets/train\\mild\\T1_0025_D5.png</td>\n",
       "      <td>mild</td>\n",
       "    </tr>\n",
       "    <tr>\n",
       "      <th>1692</th>\n",
       "      <td>datasets/train\\severe\\T1_0334_D4.png</td>\n",
       "      <td>severe</td>\n",
       "    </tr>\n",
       "    <tr>\n",
       "      <th>...</th>\n",
       "      <td>...</td>\n",
       "      <td>...</td>\n",
       "    </tr>\n",
       "    <tr>\n",
       "      <th>1130</th>\n",
       "      <td>datasets/train\\normal\\no (171).png</td>\n",
       "      <td>normal</td>\n",
       "    </tr>\n",
       "    <tr>\n",
       "      <th>1294</th>\n",
       "      <td>datasets/train\\normal\\no (319).png</td>\n",
       "      <td>normal</td>\n",
       "    </tr>\n",
       "    <tr>\n",
       "      <th>860</th>\n",
       "      <td>datasets/train\\moderate\\mo (559).png</td>\n",
       "      <td>moderate</td>\n",
       "    </tr>\n",
       "    <tr>\n",
       "      <th>1459</th>\n",
       "      <td>datasets/train\\normal\\no (468).png</td>\n",
       "      <td>normal</td>\n",
       "    </tr>\n",
       "    <tr>\n",
       "      <th>1126</th>\n",
       "      <td>datasets/train\\normal\\no (168).png</td>\n",
       "      <td>normal</td>\n",
       "    </tr>\n",
       "  </tbody>\n",
       "</table>\n",
       "<p>1586 rows × 2 columns</p>\n",
       "</div>"
      ],
      "text/plain": [
       "                                 filepaths    labels\n",
       "720   datasets/train\\moderate\\mo (432).png  moderate\n",
       "480   datasets/train\\moderate\\mo (216).png  moderate\n",
       "567   datasets/train\\moderate\\mo (295).png  moderate\n",
       "71      datasets/train\\mild\\T1_0025_D5.png      mild\n",
       "1692  datasets/train\\severe\\T1_0334_D4.png    severe\n",
       "...                                    ...       ...\n",
       "1130    datasets/train\\normal\\no (171).png    normal\n",
       "1294    datasets/train\\normal\\no (319).png    normal\n",
       "860   datasets/train\\moderate\\mo (559).png  moderate\n",
       "1459    datasets/train\\normal\\no (468).png    normal\n",
       "1126    datasets/train\\normal\\no (168).png    normal\n",
       "\n",
       "[1586 rows x 2 columns]"
      ]
     },
     "execution_count": 5,
     "metadata": {},
     "output_type": "execute_result"
    }
   ],
   "source": [
    "train_df"
   ]
  },
  {
   "cell_type": "code",
   "execution_count": 6,
   "id": "82c3f639",
   "metadata": {
    "_kg_hide-input": false,
    "_kg_hide-output": true,
    "papermill": {
     "duration": 0.027198,
     "end_time": "2024-01-17T14:00:44.278234",
     "exception": false,
     "start_time": "2024-01-17T14:00:44.251036",
     "status": "completed"
    },
    "scrolled": true,
    "tags": []
   },
   "outputs": [
    {
     "data": {
      "text/html": [
       "<div>\n",
       "<style scoped>\n",
       "    .dataframe tbody tr th:only-of-type {\n",
       "        vertical-align: middle;\n",
       "    }\n",
       "\n",
       "    .dataframe tbody tr th {\n",
       "        vertical-align: top;\n",
       "    }\n",
       "\n",
       "    .dataframe thead th {\n",
       "        text-align: right;\n",
       "    }\n",
       "</style>\n",
       "<table border=\"1\" class=\"dataframe\">\n",
       "  <thead>\n",
       "    <tr style=\"text-align: right;\">\n",
       "      <th></th>\n",
       "      <th>filepaths</th>\n",
       "      <th>labels</th>\n",
       "    </tr>\n",
       "  </thead>\n",
       "  <tbody>\n",
       "    <tr>\n",
       "      <th>1524</th>\n",
       "      <td>datasets/train\\normal\\no (526).png</td>\n",
       "      <td>normal</td>\n",
       "    </tr>\n",
       "    <tr>\n",
       "      <th>100</th>\n",
       "      <td>datasets/train\\mild\\T1_0036_D4.png</td>\n",
       "      <td>mild</td>\n",
       "    </tr>\n",
       "    <tr>\n",
       "      <th>949</th>\n",
       "      <td>datasets/train\\moderate\\mo (639).png</td>\n",
       "      <td>moderate</td>\n",
       "    </tr>\n",
       "    <tr>\n",
       "      <th>1009</th>\n",
       "      <td>datasets/train\\moderate\\mo (693).png</td>\n",
       "      <td>moderate</td>\n",
       "    </tr>\n",
       "    <tr>\n",
       "      <th>1549</th>\n",
       "      <td>datasets/train\\normal\\no (549).png</td>\n",
       "      <td>normal</td>\n",
       "    </tr>\n",
       "    <tr>\n",
       "      <th>...</th>\n",
       "      <td>...</td>\n",
       "      <td>...</td>\n",
       "    </tr>\n",
       "    <tr>\n",
       "      <th>1760</th>\n",
       "      <td>datasets/train\\severe\\T1_0357_D3.png</td>\n",
       "      <td>severe</td>\n",
       "    </tr>\n",
       "    <tr>\n",
       "      <th>862</th>\n",
       "      <td>datasets/train\\moderate\\mo (560).png</td>\n",
       "      <td>moderate</td>\n",
       "    </tr>\n",
       "    <tr>\n",
       "      <th>1913</th>\n",
       "      <td>datasets/train\\severe\\T1_0548_D5.png</td>\n",
       "      <td>severe</td>\n",
       "    </tr>\n",
       "    <tr>\n",
       "      <th>990</th>\n",
       "      <td>datasets/train\\moderate\\mo (676).png</td>\n",
       "      <td>moderate</td>\n",
       "    </tr>\n",
       "    <tr>\n",
       "      <th>1630</th>\n",
       "      <td>datasets/train\\normal\\no (88).png</td>\n",
       "      <td>normal</td>\n",
       "    </tr>\n",
       "  </tbody>\n",
       "</table>\n",
       "<p>198 rows × 2 columns</p>\n",
       "</div>"
      ],
      "text/plain": [
       "                                 filepaths    labels\n",
       "1524    datasets/train\\normal\\no (526).png    normal\n",
       "100     datasets/train\\mild\\T1_0036_D4.png      mild\n",
       "949   datasets/train\\moderate\\mo (639).png  moderate\n",
       "1009  datasets/train\\moderate\\mo (693).png  moderate\n",
       "1549    datasets/train\\normal\\no (549).png    normal\n",
       "...                                    ...       ...\n",
       "1760  datasets/train\\severe\\T1_0357_D3.png    severe\n",
       "862   datasets/train\\moderate\\mo (560).png  moderate\n",
       "1913  datasets/train\\severe\\T1_0548_D5.png    severe\n",
       "990   datasets/train\\moderate\\mo (676).png  moderate\n",
       "1630     datasets/train\\normal\\no (88).png    normal\n",
       "\n",
       "[198 rows x 2 columns]"
      ]
     },
     "execution_count": 6,
     "metadata": {},
     "output_type": "execute_result"
    }
   ],
   "source": [
    "test_df"
   ]
  },
  {
   "cell_type": "code",
   "execution_count": 7,
   "id": "81e22280",
   "metadata": {
    "papermill": {
     "duration": 0.022607,
     "end_time": "2024-01-17T14:00:44.316094",
     "exception": false,
     "start_time": "2024-01-17T14:00:44.293487",
     "status": "completed"
    },
    "tags": []
   },
   "outputs": [
    {
     "data": {
      "text/plain": [
       "(198, 2)"
      ]
     },
     "execution_count": 7,
     "metadata": {},
     "output_type": "execute_result"
    }
   ],
   "source": [
    "test_df.shape"
   ]
  },
  {
   "cell_type": "code",
   "execution_count": 8,
   "id": "30114939",
   "metadata": {
    "papermill": {
     "duration": 0.022754,
     "end_time": "2024-01-17T14:00:44.353365",
     "exception": false,
     "start_time": "2024-01-17T14:00:44.330611",
     "status": "completed"
    },
    "tags": []
   },
   "outputs": [
    {
     "data": {
      "text/plain": [
       "(1586, 2)"
      ]
     },
     "execution_count": 8,
     "metadata": {},
     "output_type": "execute_result"
    }
   ],
   "source": [
    "train_df.shape"
   ]
  },
  {
   "cell_type": "code",
   "execution_count": 9,
   "id": "6ff494d7",
   "metadata": {
    "papermill": {
     "duration": 0.022551,
     "end_time": "2024-01-17T14:00:44.389961",
     "exception": false,
     "start_time": "2024-01-17T14:00:44.367410",
     "status": "completed"
    },
    "tags": []
   },
   "outputs": [
    {
     "data": {
      "text/plain": [
       "(199, 2)"
      ]
     },
     "execution_count": 9,
     "metadata": {},
     "output_type": "execute_result"
    }
   ],
   "source": [
    "valid_df.shape"
   ]
  },
  {
   "cell_type": "code",
   "execution_count": 10,
   "id": "132b1f1f",
   "metadata": {
    "_kg_hide-output": true,
    "papermill": {
     "duration": 190.519405,
     "end_time": "2024-01-17T14:08:21.217777",
     "exception": false,
     "start_time": "2024-01-17T14:05:10.698372",
     "status": "completed"
    },
    "scrolled": true,
    "tags": []
   },
   "outputs": [
    {
     "name": "stdout",
     "output_type": "stream",
     "text": [
      "Epoch 1/20\n",
      "40/40 [==============================] - ETA: 0s - loss: 1.8090 - accuracy: 0.3178\n",
      "Epoch 1: accuracy improved from -inf to 0.31778, saving model to best_model_resnet.h5\n",
      "40/40 [==============================] - 266s 7s/step - loss: 1.8090 - accuracy: 0.3178 - val_loss: 1.6653 - val_accuracy: 0.3166\n",
      "Epoch 2/20\n",
      "40/40 [==============================] - ETA: 0s - loss: 1.2272 - accuracy: 0.4584\n",
      "Epoch 2: accuracy improved from 0.31778 to 0.45839, saving model to best_model_resnet.h5\n",
      "40/40 [==============================] - 217s 5s/step - loss: 1.2272 - accuracy: 0.4584 - val_loss: 1.3402 - val_accuracy: 0.3819\n",
      "Epoch 3/20\n",
      "40/40 [==============================] - ETA: 0s - loss: 1.0418 - accuracy: 0.5681\n",
      "Epoch 3: accuracy improved from 0.45839 to 0.56810, saving model to best_model_resnet.h5\n",
      "40/40 [==============================] - 197s 5s/step - loss: 1.0418 - accuracy: 0.5681 - val_loss: 1.3111 - val_accuracy: 0.4422\n",
      "Epoch 4/20\n",
      "40/40 [==============================] - ETA: 0s - loss: 0.9451 - accuracy: 0.6059\n",
      "Epoch 4: accuracy improved from 0.56810 to 0.60593, saving model to best_model_resnet.h5\n",
      "40/40 [==============================] - 204s 5s/step - loss: 0.9451 - accuracy: 0.6059 - val_loss: 1.2852 - val_accuracy: 0.4472\n",
      "Epoch 5/20\n",
      "40/40 [==============================] - ETA: 0s - loss: 0.8636 - accuracy: 0.6564\n",
      "Epoch 5: accuracy improved from 0.60593 to 0.65637, saving model to best_model_resnet.h5\n",
      "40/40 [==============================] - 223s 6s/step - loss: 0.8636 - accuracy: 0.6564 - val_loss: 1.1729 - val_accuracy: 0.5528\n",
      "Epoch 6/20\n",
      "40/40 [==============================] - ETA: 0s - loss: 0.7476 - accuracy: 0.6885\n",
      "Epoch 6: accuracy improved from 0.65637 to 0.68852, saving model to best_model_resnet.h5\n",
      "40/40 [==============================] - 227s 6s/step - loss: 0.7476 - accuracy: 0.6885 - val_loss: 1.1531 - val_accuracy: 0.5678\n",
      "Epoch 7/20\n",
      "40/40 [==============================] - ETA: 0s - loss: 0.6785 - accuracy: 0.7409\n",
      "Epoch 7: accuracy improved from 0.68852 to 0.74086, saving model to best_model_resnet.h5\n",
      "40/40 [==============================] - 194s 5s/step - loss: 0.6785 - accuracy: 0.7409 - val_loss: 1.2674 - val_accuracy: 0.5628\n",
      "Epoch 8/20\n",
      "40/40 [==============================] - ETA: 0s - loss: 0.5860 - accuracy: 0.7781\n",
      "Epoch 8: accuracy improved from 0.74086 to 0.77806, saving model to best_model_resnet.h5\n",
      "40/40 [==============================] - 186s 5s/step - loss: 0.5860 - accuracy: 0.7781 - val_loss: 1.2205 - val_accuracy: 0.5930\n",
      "Epoch 9/20\n",
      "40/40 [==============================] - ETA: 0s - loss: 0.5192 - accuracy: 0.8020\n",
      "Epoch 9: accuracy improved from 0.77806 to 0.80202, saving model to best_model_resnet.h5\n",
      "40/40 [==============================] - 177s 4s/step - loss: 0.5192 - accuracy: 0.8020 - val_loss: 1.2563 - val_accuracy: 0.5678\n",
      "Epoch 10/20\n",
      "40/40 [==============================] - ETA: 0s - loss: 0.4925 - accuracy: 0.8197\n",
      "Epoch 10: accuracy improved from 0.80202 to 0.81967, saving model to best_model_resnet.h5\n",
      "40/40 [==============================] - 175s 4s/step - loss: 0.4925 - accuracy: 0.8197 - val_loss: 1.2188 - val_accuracy: 0.5829\n",
      "Epoch 11/20\n",
      "40/40 [==============================] - ETA: 0s - loss: 0.4457 - accuracy: 0.8222\n",
      "Epoch 11: accuracy improved from 0.81967 to 0.82219, saving model to best_model_resnet.h5\n",
      "40/40 [==============================] - 175s 4s/step - loss: 0.4457 - accuracy: 0.8222 - val_loss: 1.2528 - val_accuracy: 0.6080\n",
      "Epoch 12/20\n",
      "40/40 [==============================] - ETA: 0s - loss: 0.3846 - accuracy: 0.8594\n",
      "Epoch 12: accuracy improved from 0.82219 to 0.85939, saving model to best_model_resnet.h5\n",
      "40/40 [==============================] - 175s 4s/step - loss: 0.3846 - accuracy: 0.8594 - val_loss: 1.2616 - val_accuracy: 0.5779\n",
      "Epoch 13/20\n",
      "40/40 [==============================] - ETA: 0s - loss: 0.3397 - accuracy: 0.8796\n",
      "Epoch 13: accuracy improved from 0.85939 to 0.87957, saving model to best_model_resnet.h5\n",
      "40/40 [==============================] - 174s 4s/step - loss: 0.3397 - accuracy: 0.8796 - val_loss: 1.4466 - val_accuracy: 0.5578\n",
      "Epoch 14/20\n",
      "40/40 [==============================] - ETA: 0s - loss: 0.3249 - accuracy: 0.8821\n",
      "Epoch 14: accuracy improved from 0.87957 to 0.88209, saving model to best_model_resnet.h5\n",
      "40/40 [==============================] - 172s 4s/step - loss: 0.3249 - accuracy: 0.8821 - val_loss: 1.3987 - val_accuracy: 0.5678\n",
      "Epoch 15/20\n",
      "40/40 [==============================] - ETA: 0s - loss: 0.2757 - accuracy: 0.8985\n",
      "Epoch 15: accuracy improved from 0.88209 to 0.89849, saving model to best_model_resnet.h5\n",
      "40/40 [==============================] - 172s 4s/step - loss: 0.2757 - accuracy: 0.8985 - val_loss: 1.4309 - val_accuracy: 0.5980\n",
      "Epoch 16/20\n",
      "40/40 [==============================] - ETA: 0s - loss: 0.2593 - accuracy: 0.9105\n",
      "Epoch 16: accuracy improved from 0.89849 to 0.91047, saving model to best_model_resnet.h5\n",
      "40/40 [==============================] - 175s 4s/step - loss: 0.2593 - accuracy: 0.9105 - val_loss: 1.5318 - val_accuracy: 0.6030\n",
      "Epoch 17/20\n",
      "40/40 [==============================] - ETA: 0s - loss: 0.2383 - accuracy: 0.9174\n",
      "Epoch 17: accuracy improved from 0.91047 to 0.91740, saving model to best_model_resnet.h5\n",
      "40/40 [==============================] - 172s 4s/step - loss: 0.2383 - accuracy: 0.9174 - val_loss: 1.6632 - val_accuracy: 0.6030\n",
      "Epoch 18/20\n",
      "40/40 [==============================] - ETA: 0s - loss: 0.2110 - accuracy: 0.9224\n",
      "Epoch 18: accuracy improved from 0.91740 to 0.92245, saving model to best_model_resnet.h5\n",
      "40/40 [==============================] - 193s 5s/step - loss: 0.2110 - accuracy: 0.9224 - val_loss: 1.7699 - val_accuracy: 0.5829\n",
      "Epoch 19/20\n",
      "40/40 [==============================] - ETA: 0s - loss: 0.2228 - accuracy: 0.9206\n",
      "Epoch 19: accuracy did not improve from 0.92245\n",
      "40/40 [==============================] - 181s 5s/step - loss: 0.2228 - accuracy: 0.9206 - val_loss: 1.6717 - val_accuracy: 0.5879\n",
      "Epoch 20/20\n",
      "40/40 [==============================] - ETA: 0s - loss: 0.2037 - accuracy: 0.9306\n",
      "Epoch 20: accuracy improved from 0.92245 to 0.93064, saving model to best_model_resnet.h5\n",
      "40/40 [==============================] - 210s 5s/step - loss: 0.2037 - accuracy: 0.9306 - val_loss: 1.6188 - val_accuracy: 0.5930\n"
     ]
    }
   ],
   "source": [
    "import tensorflow as tf\n",
    "from tensorflow.keras.models import Sequential\n",
    "from tensorflow.keras.layers import Dense, Dropout, BatchNormalization\n",
    "from tensorflow.keras.callbacks import ModelCheckpoint\n",
    "\n",
    "# Assuming train_gen and valid_gen are your image data generators\n",
    "\n",
    "img_size = (224, 224)\n",
    "channels = 3\n",
    "img_shape = (img_size[0], img_size[1], channels)\n",
    "class_count = len(list(train_gen.class_indices.keys()))\n",
    "\n",
    "# Create pre-trained model\n",
    "base_model = tf.keras.applications.ResNet50(include_top=False, weights=\"imagenet\", input_shape=img_shape, pooling='max')\n",
    "for layer in base_model.layers:\n",
    "    layer.trainable = False\n",
    "model = Sequential([\n",
    "    base_model,\n",
    "    BatchNormalization(),\n",
    "    Dense(256, activation='relu'),\n",
    "    Dropout(0.3),\n",
    "     Dense(64, activation='relu'),\n",
    "    Dropout(0.3),\n",
    "    Dense(class_count, activation='softmax')\n",
    "])\n",
    "\n",
    "optimizer = tf.keras.optimizers.Adam()\n",
    "model.compile(optimizer=optimizer, loss='categorical_crossentropy', metrics=['accuracy'])\n",
    "\n",
    "# Define filepath to save the best model\n",
    "filepath = 'best_model_resnet.h5'\n",
    "\n",
    "# Create ModelCheckpoint callback to save the best model based on validation accuracy\n",
    "checkpoint = ModelCheckpoint(filepath, monitor='accuracy', verbose=1, save_best_only=True, mode='max')\n",
    "# Train the model with the added callback\n",
    "history = model.fit(\n",
    "    x=train_gen,\n",
    "    epochs=20,\n",
    "    verbose=1,\n",
    "    validation_data=valid_gen,\n",
    "    callbacks=[checkpoint]\n",
    ")"
   ]
  },
  {
   "cell_type": "code",
   "execution_count": 11,
   "id": "12b47368",
   "metadata": {
    "papermill": {
     "duration": 24.185498,
     "end_time": "2024-01-17T14:08:45.614088",
     "exception": false,
     "start_time": "2024-01-17T14:08:21.428590",
     "status": "completed"
    },
    "tags": []
   },
   "outputs": [
    {
     "name": "stdout",
     "output_type": "stream",
     "text": [
      "3/3 [==============================] - 17s 5s/step - loss: 0.0168 - accuracy: 1.0000\n",
      "Train Loss:  0.016843771561980247\n",
      "Train Accuracy:  100.0\n",
      "--------------------\n"
     ]
    }
   ],
   "source": [
    "import tensorflow as tf\n",
    "from tensorflow.keras.models import load_model, Model\n",
    "from tensorflow.keras.layers import Input, Average\n",
    "\n",
    "\n",
    "\n",
    "model= load_model('best_model_resnet.h5')\n",
    "\n",
    "ts_length = len(test_df)\n",
    "test_batch_size = test_batch_size = max(sorted([ts_length // n for n in range(1, ts_length + 1) if ts_length%n == 0 and ts_length/n <= 80]))\n",
    "test_steps = ts_length // test_batch_size\n",
    "train_score = model.evaluate(train_gen, steps= test_steps, verbose= 1)\n",
    "\n",
    "\n",
    "print(\"Train Loss: \", train_score[0])\n",
    "print(\"Train Accuracy: \", train_score[1]*100)\n",
    "print('-' * 20)\n"
   ]
  },
  {
   "cell_type": "code",
   "execution_count": 12,
   "id": "8ea6cc30-297f-4880-9f59-236884849b24",
   "metadata": {},
   "outputs": [
    {
     "data": {
      "image/png": "[encoded data removed]",
      "text/plain": [
       "<Figure size 640x480 with 1 Axes>"
      ]
     },
     "metadata": {},
     "output_type": "display_data"
    }
   ],
   "source": [
    "import matplotlib.pyplot as plt\n",
    "\n",
    "def graph():\n",
    "    #Plot training & validation accuracy values\n",
    "    plt.plot(history.history['accuracy'])\n",
    "    plt.plot(history.history['val_accuracy'])\n",
    "    plt.title('Model accuracy')\n",
    "    plt.ylabel('Accuracy')\n",
    "    plt.xlabel('Epoch')\n",
    "    plt.legend(['Train', 'Test'], loc='upper left')\n",
    "    plt.show()\n",
    "\n",
    "graph()"
   ]
  },
  {
   "cell_type": "code",
   "execution_count": 13,
   "id": "4ab06504-1aad-4b8e-ab5a-7e2225e9e23d",
   "metadata": {},
   "outputs": [
    {
     "data": {
      "image/png": "[encoded data removed]",
      "text/plain": [
       "<Figure size 640x480 with 1 Axes>"
      ]
     },
     "metadata": {},
     "output_type": "display_data"
    }
   ],
   "source": [
    "import matplotlib.pyplot as plt\n",
    "\n",
    "def graph():\n",
    "    plt.plot(history.history['loss'])\n",
    "    plt.plot(history.history['val_loss'])\n",
    "    plt.title('Model loss')\n",
    "    plt.ylabel('Loss')\n",
    "    plt.xlabel('Epoch')\n",
    "    plt.legend(['Train', 'Test'], loc='upper left')\n",
    "    plt.show()\n",
    "graph()"
   ]
  },
  {
   "cell_type": "code",
   "execution_count": 16,
   "id": "f21850f3-b797-4a51-9c19-6b629a8fa7cf",
   "metadata": {},
   "outputs": [
    {
     "name": "stderr",
     "output_type": "stream",
     "text": [
      "C:\\Users\\SPIRO-PYTHON1\\AppData\\Local\\Temp\\ipykernel_8212\\3099705374.py:2: UserWarning: `Model.predict_generator` is deprecated and will be removed in a future version. Please use `Model.predict`, which supports generators.\n",
      "  preds = model.predict_generator(test_gen)\n"
     ]
    },
    {
     "name": "stdout",
     "output_type": "stream",
     "text": [
      "[2 2 1 1 2 0 2 1 2 3 1 0 2 1 2 1 1 2 1 1 1 2 1 1 2 3 2 0 2 1 2 1 0 2 1 2 0\n",
      " 2 3 2 1 1 1 0 2 2 1 1 2 2 2 2 0 3 0 2 1 2 0 2 1 2 2 1 2 1 2 2 1 3 1 2 1 1\n",
      " 2 1 3 0 1 1 1 1 1 1 3 2 0 2 1 1 1 1 2 1 1 0 2 1 2 1 2 2 0 3 0 1 2 2 1 2 2\n",
      " 1 1 0 1 1 0 2 1 2 1 2 0 3 1 1 0 3 3 3 1 0 0 1 2 0 2 1 2 0 3 1 1 1 1 0 2 2\n",
      " 2 2 3 1 2 3 2 1 3 3 2 2 0 0 1 1 2 1 0 3 1 1 2 3 0 2 1 1 2 1 1 2 2 0 0 2 1\n",
      " 2 0 1 2 2 1 1 1 1 1 1 1 2]\n"
     ]
    }
   ],
   "source": [
    "model = load_model('best_model_resnet.h5')\n",
    "preds = model.predict_generator(test_gen)\n",
    "y_pred = np.argmax(preds, axis=1)\n",
    "print(y_pred)"
   ]
  },
  {
   "cell_type": "code",
   "execution_count": 17,
   "id": "4fd8386d-f089-4d7d-b81e-4ef7330e8ec2",
   "metadata": {},
   "outputs": [],
   "source": [
    "import itertools\n",
    "import matplotlib.pyplot as plt\n",
    "def plot_confusion_matrix(cm, classes, normalize= False, title= 'Confusion Matrix', cmap= plt.cm.Blues):\n",
    "    plt.figure(figsize= (10, 10))\n",
    "    plt.imshow(cm, interpolation= 'nearest', cmap= cmap)\n",
    "    plt.title(title)\n",
    "    plt.colorbar()\n",
    "    tick_marks = np.arange(len(classes))\n",
    "    plt.xticks(tick_marks, classes, rotation= 45)\n",
    "    plt.yticks(tick_marks, classes)\n",
    "    if normalize:\n",
    "        cm = cm.astype('float') / cm.sum(axis= 1)[:, np.newaxis]\n",
    "        print('Normalized Confusion Matrix')\n",
    "    else:\n",
    "        print('Confusion Matrix, Without Normalization')\n",
    "    print(cm)\n",
    "    thresh = cm.max() / 2.\n",
    "    for i, j in itertools.product(range(cm.shape[0]), range(cm.shape[1])):\n",
    "        plt.text(j, i, cm[i, j], horizontalalignment= 'center', color= 'white' if cm[i, j] > thresh else 'black')\n",
    "    plt.tight_layout()\n",
    "    plt.ylabel('True Label')\n",
    "    plt.xlabel('Predicted Label')"
   ]
  },
  {
   "cell_type": "code",
   "execution_count": 18,
   "id": "f75bd2a7-f1b0-4578-bc7e-d284200cae4b",
   "metadata": {},
   "outputs": [
    {
     "name": "stdout",
     "output_type": "stream",
     "text": [
      "Confusion Matrix, Without Normalization\n",
      "[[12  4 13  6]\n",
      " [ 1 64  1  4]\n",
      " [ 5  4 51  3]\n",
      " [12  8  4  6]]\n",
      "              precision    recall  f1-score   support\n",
      "\n",
      "           1       0.40      0.34      0.37        35\n",
      "           2       0.80      0.91      0.85        70\n",
      "           3       0.74      0.81      0.77        63\n",
      "           4       0.32      0.20      0.24        30\n",
      "\n",
      "    accuracy                           0.67       198\n",
      "   macro avg       0.56      0.57      0.56       198\n",
      "weighted avg       0.64      0.67      0.65       198\n",
      "\n"
     ]
    },
    {
     "data": {
      "image/png": "[encoded data removed]",
      "text/plain": [
       "<Figure size 1000x1000 with 2 Axes>"
      ]
     },
     "metadata": {},
     "output_type": "display_data"
    }
   ],
   "source": [
    "from sklearn.metrics import confusion_matrix, classification_report\n",
    "import matplotlib.pyplot as plt\n",
    "\n",
    "target_names = ['1','2','3','4']\n",
    "# Confusion matrix\n",
    "cm = confusion_matrix(test_gen.classes, y_pred)\n",
    "plot_confusion_matrix(cm= cm, classes= target_names, title = 'Confusion Matrix')\n",
    "# Classification report\n",
    "print(classification_report(test_gen.classes, y_pred, target_names= target_names))"
   ]
  },
  {
   "cell_type": "code",
   "execution_count": null,
   "id": "48232bda-8a70-4888-8c99-bcdec32cc0e8",
   "metadata": {},
   "outputs": [],
   "source": []
  }
 ],
 "metadata": {
  "kaggle": {
   "accelerator": "nvidiaTeslaT4",
   "dataSources": [
    {
     "datasetId": 1544742,
     "sourceId": 2546969,
     "sourceType": "datasetVersion"
    }
   ],
   "dockerImageVersionId": 30636,
   "isGpuEnabled": true,
   "isInternetEnabled": true,
   "language": "python",
   "sourceType": "notebook"
  },
  "kernelspec": {
   "display_name": "Python 3 (ipykernel)",
   "language": "python",
   "name": "python3"
  },
  "language_info": {
   "codemirror_mode": {
    "name": "ipython",
    "version": 3
   },
   "file_extension": ".py",
   "mimetype": "text/x-python",
   "name": "python",
   "nbconvert_exporter": "python",
   "pygments_lexer": "ipython3",
   "version": "3.9.18"
  },
  "papermill": {
   "default_parameters": {},
   "duration": 830.996806,
   "end_time": "2024-01-17T14:14:09.188939",
   "environment_variables": {},
   "exception": null,
   "input_path": "__notebook__.ipynb",
   "output_path": "__notebook__.ipynb",
   "parameters": {},
   "start_time": "2024-01-17T14:00:18.192133",
   "version": "2.4.0"
  }
 },
 "nbformat": 4,
 "nbformat_minor": 5
}
