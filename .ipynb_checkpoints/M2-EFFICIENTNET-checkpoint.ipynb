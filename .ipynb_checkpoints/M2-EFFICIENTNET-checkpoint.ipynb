{
 "cells": [
  {
   "cell_type": "code",
   "execution_count": 1,
   "id": "a7d1545a",
   "metadata": {
    "_cell_guid": "b1076dfc-b9ad-4769-8c92-a6c4dae69d19",
    "_kg_hide-input": false,
    "_kg_hide-output": true,
    "_uuid": "8f2839f25d086af736a60e9eeb907d3b93b6e0e5",
    "papermill": {
     "duration": 5.639426,
     "end_time": "2024-01-17T14:00:27.343662",
     "exception": false,
     "start_time": "2024-01-17T14:00:21.704236",
     "status": "completed"
    },
    "scrolled": true,
    "tags": []
   },
   "outputs": [],
   "source": [
    "\n",
    "import numpy as np # linear algebra\n",
    "import pandas as pd # data processing, CSV file I/O (e.g. pd.read_csv)\n",
    "\n"
   ]
  },
  {
   "cell_type": "code",
   "execution_count": 2,
   "id": "9afe556f",
   "metadata": {
    "papermill": {
     "duration": 13.144824,
     "end_time": "2024-01-17T14:00:40.504621",
     "exception": false,
     "start_time": "2024-01-17T14:00:27.359797",
     "status": "completed"
    },
    "tags": []
   },
   "outputs": [],
   "source": [
    "import os\n",
    "import tensorflow as tf\n",
    "from tensorflow import keras\n",
    "from tensorflow.keras.optimizers import Adam\n",
    "from sklearn.model_selection import train_test_split\n",
    "from tensorflow.keras.metrics import categorical_crossentropy\n",
    "from tensorflow.keras.models import Model, load_model, Sequential\n",
    "from sklearn.metrics import confusion_matrix, classification_report\n",
    "from tensorflow.keras.preprocessing.image import ImageDataGenerator\n",
    "from tensorflow.keras.layers import Conv2D, MaxPooling2D, Flatten, Dense, Activation, Dropout, BatchNormalization"
   ]
  },
  {
   "cell_type": "code",
   "execution_count": 3,
   "id": "14236ad0",
   "metadata": {
    "papermill": {
     "duration": 0.02302,
     "end_time": "2024-01-17T14:00:40.540835",
     "exception": false,
     "start_time": "2024-01-17T14:00:40.517815",
     "status": "completed"
    },
    "tags": []
   },
   "outputs": [],
   "source": [
    "def define_paths(dir):\n",
    "    filepaths = []\n",
    "    labels = []\n",
    "    folds = os.listdir(dir)\n",
    "    for fold in folds:\n",
    "        foldpath = os.path.join(dir, fold)\n",
    "        filelist = os.listdir(foldpath)\n",
    "        for file in filelist:\n",
    "            fpath = os.path.join(foldpath, file)\n",
    "            filepaths.append(fpath)\n",
    "            labels.append(fold)\n",
    "    return filepaths, labels\n",
    "\n",
    "\n",
    "def define_df(files, classes):\n",
    "    Fseries = pd.Series(files, name= 'filepaths')\n",
    "    Lseries = pd.Series(classes, name='labels')\n",
    "    return pd.concat([Fseries, Lseries], axis= 1)\n",
    "\n",
    "\n",
    "def create_df(dir):\n",
    "    files, classes = define_paths(dir)\n",
    "    df = define_df(files, classes)\n",
    "    return df"
   ]
  },
  {
   "cell_type": "code",
   "execution_count": 4,
   "id": "75dc3869",
   "metadata": {
    "papermill": {
     "duration": 3.639549,
     "end_time": "2024-01-17T14:00:44.193119",
     "exception": false,
     "start_time": "2024-01-17T14:00:40.553570",
     "status": "completed"
    },
    "tags": []
   },
   "outputs": [
    {
     "name": "stdout",
     "output_type": "stream",
     "text": [
      "Found 1521 validated image filenames belonging to 9 classes.\n",
      "Found 191 validated image filenames belonging to 9 classes.\n",
      "Found 190 validated image filenames belonging to 9 classes.\n"
     ]
    },
    {
     "name": "stderr",
     "output_type": "stream",
     "text": [
      "F:\\SOFTWARE\\ANACONDA\\envs\\face\\lib\\site-packages\\keras\\preprocessing\\image.py:989: UserWarning: Found 1 invalid image filename(s) in x_col=\"filepaths\". These filename(s) will be ignored.\n",
      "  warnings.warn('Found {} invalid image filename(s) in x_col=\"{}\". '\n"
     ]
    }
   ],
   "source": [
    "def create_gens(train_df, valid_df, test_df, batch_size):\n",
    "    img_size = (224, 224)\n",
    "    channels = 3\n",
    "    img_shape = (img_size[0], img_size[1], channels)\n",
    "    ts_length = len(test_df)\n",
    "    def scalar(img):\n",
    "        return img\n",
    "    tr_gen = ImageDataGenerator(preprocessing_function= scalar, horizontal_flip= True)\n",
    "    ts_gen = ImageDataGenerator(preprocessing_function= scalar)\n",
    "    train_gen = tr_gen.flow_from_dataframe( train_df, x_col= 'filepaths', y_col= 'labels', target_size= img_size, class_mode= 'categorical',\n",
    "                                        color_mode= 'rgb', shuffle= True, batch_size= 40)\n",
    "    valid_gen = ts_gen.flow_from_dataframe( valid_df, x_col= 'filepaths', y_col= 'labels', target_size= img_size, class_mode= 'categorical',\n",
    "                                        color_mode= 'rgb', shuffle= True, batch_size= 40)\n",
    "    test_gen = ts_gen.flow_from_dataframe( test_df, x_col= 'filepaths', y_col= 'labels', target_size= img_size, class_mode= 'categorical',\n",
    "                                        color_mode= 'rgb', shuffle= False, batch_size= 40)\n",
    "    return train_gen, valid_gen, test_gen\n",
    "\n",
    "\n",
    "dir = 'DATASET/TRAIN'\n",
    "\n",
    "df = create_df(dir)\n",
    "train_df, test_valid_df = train_test_split(df, test_size=0.2, random_state=42)\n",
    "test_df, valid_df = train_test_split(test_valid_df, test_size=0.5, random_state=42)\n",
    "\n",
    "# Get Generators\n",
    "batch_size = 512\n",
    "train_gen, valid_gen, test_gen = create_gens(train_df, valid_df, test_df, batch_size)"
   ]
  },
  {
   "cell_type": "code",
   "execution_count": 5,
   "id": "e711f1fe",
   "metadata": {
    "_kg_hide-input": false,
    "_kg_hide-output": true,
    "papermill": {
     "duration": 0.030318,
     "end_time": "2024-01-17T14:00:44.237026",
     "exception": false,
     "start_time": "2024-01-17T14:00:44.206708",
     "status": "completed"
    },
    "scrolled": true,
    "tags": []
   },
   "outputs": [
    {
     "data": {
      "text/html": [
       "<div>\n",
       "<style scoped>\n",
       "    .dataframe tbody tr th:only-of-type {\n",
       "        vertical-align: middle;\n",
       "    }\n",
       "\n",
       "    .dataframe tbody tr th {\n",
       "        vertical-align: top;\n",
       "    }\n",
       "\n",
       "    .dataframe thead th {\n",
       "        text-align: right;\n",
       "    }\n",
       "</style>\n",
       "<table border=\"1\" class=\"dataframe\">\n",
       "  <thead>\n",
       "    <tr style=\"text-align: right;\">\n",
       "      <th></th>\n",
       "      <th>filepaths</th>\n",
       "      <th>labels</th>\n",
       "    </tr>\n",
       "  </thead>\n",
       "  <tbody>\n",
       "    <tr>\n",
       "      <th>1672</th>\n",
       "      <td>DATASET/TRAIN\\vascular_lesion_cancer\\vas (251)...</td>\n",
       "      <td>vascular_lesion_cancer</td>\n",
       "    </tr>\n",
       "    <tr>\n",
       "      <th>1777</th>\n",
       "      <td>DATASET/TRAIN\\vascular_lesion_cancer\\vas (346)...</td>\n",
       "      <td>vascular_lesion_cancer</td>\n",
       "    </tr>\n",
       "    <tr>\n",
       "      <th>339</th>\n",
       "      <td>DATASET/TRAIN\\impetigo\\imperigo (22).jpg</td>\n",
       "      <td>impetigo</td>\n",
       "    </tr>\n",
       "    <tr>\n",
       "      <th>1314</th>\n",
       "      <td>DATASET/TRAIN\\squamous_cell_carcinoma_cancer\\s...</td>\n",
       "      <td>squamous_cell_carcinoma_cancer</td>\n",
       "    </tr>\n",
       "    <tr>\n",
       "      <th>1362</th>\n",
       "      <td>DATASET/TRAIN\\squamous_cell_carcinoma_cancer\\s...</td>\n",
       "      <td>squamous_cell_carcinoma_cancer</td>\n",
       "    </tr>\n",
       "    <tr>\n",
       "      <th>...</th>\n",
       "      <td>...</td>\n",
       "      <td>...</td>\n",
       "    </tr>\n",
       "    <tr>\n",
       "      <th>1130</th>\n",
       "      <td>DATASET/TRAIN\\seborrheic_keratosis\\sea (303).jpg</td>\n",
       "      <td>seborrheic_keratosis</td>\n",
       "    </tr>\n",
       "    <tr>\n",
       "      <th>1294</th>\n",
       "      <td>DATASET/TRAIN\\seborrheic_keratosis\\sea (91).jpg</td>\n",
       "      <td>seborrheic_keratosis</td>\n",
       "    </tr>\n",
       "    <tr>\n",
       "      <th>860</th>\n",
       "      <td>DATASET/TRAIN\\nevus_cancer\\ISC-555 (60).jpg</td>\n",
       "      <td>nevus_cancer</td>\n",
       "    </tr>\n",
       "    <tr>\n",
       "      <th>1459</th>\n",
       "      <td>DATASET/TRAIN\\squamous_cell_carcinoma_cancer\\s...</td>\n",
       "      <td>squamous_cell_carcinoma_cancer</td>\n",
       "    </tr>\n",
       "    <tr>\n",
       "      <th>1126</th>\n",
       "      <td>DATASET/TRAIN\\seborrheic_keratosis\\sea (30).jpg</td>\n",
       "      <td>seborrheic_keratosis</td>\n",
       "    </tr>\n",
       "  </tbody>\n",
       "</table>\n",
       "<p>1522 rows × 2 columns</p>\n",
       "</div>"
      ],
      "text/plain": [
       "                                              filepaths  \\\n",
       "1672  DATASET/TRAIN\\vascular_lesion_cancer\\vas (251)...   \n",
       "1777  DATASET/TRAIN\\vascular_lesion_cancer\\vas (346)...   \n",
       "339            DATASET/TRAIN\\impetigo\\imperigo (22).jpg   \n",
       "1314  DATASET/TRAIN\\squamous_cell_carcinoma_cancer\\s...   \n",
       "1362  DATASET/TRAIN\\squamous_cell_carcinoma_cancer\\s...   \n",
       "...                                                 ...   \n",
       "1130   DATASET/TRAIN\\seborrheic_keratosis\\sea (303).jpg   \n",
       "1294    DATASET/TRAIN\\seborrheic_keratosis\\sea (91).jpg   \n",
       "860         DATASET/TRAIN\\nevus_cancer\\ISC-555 (60).jpg   \n",
       "1459  DATASET/TRAIN\\squamous_cell_carcinoma_cancer\\s...   \n",
       "1126    DATASET/TRAIN\\seborrheic_keratosis\\sea (30).jpg   \n",
       "\n",
       "                              labels  \n",
       "1672          vascular_lesion_cancer  \n",
       "1777          vascular_lesion_cancer  \n",
       "339                         impetigo  \n",
       "1314  squamous_cell_carcinoma_cancer  \n",
       "1362  squamous_cell_carcinoma_cancer  \n",
       "...                              ...  \n",
       "1130            seborrheic_keratosis  \n",
       "1294            seborrheic_keratosis  \n",
       "860                     nevus_cancer  \n",
       "1459  squamous_cell_carcinoma_cancer  \n",
       "1126            seborrheic_keratosis  \n",
       "\n",
       "[1522 rows x 2 columns]"
      ]
     },
     "execution_count": 5,
     "metadata": {},
     "output_type": "execute_result"
    }
   ],
   "source": [
    "train_df"
   ]
  },
  {
   "cell_type": "code",
   "execution_count": 6,
   "id": "82c3f639",
   "metadata": {
    "_kg_hide-input": false,
    "_kg_hide-output": true,
    "papermill": {
     "duration": 0.027198,
     "end_time": "2024-01-17T14:00:44.278234",
     "exception": false,
     "start_time": "2024-01-17T14:00:44.251036",
     "status": "completed"
    },
    "scrolled": true,
    "tags": []
   },
   "outputs": [
    {
     "data": {
      "text/html": [
       "<div>\n",
       "<style scoped>\n",
       "    .dataframe tbody tr th:only-of-type {\n",
       "        vertical-align: middle;\n",
       "    }\n",
       "\n",
       "    .dataframe tbody tr th {\n",
       "        vertical-align: top;\n",
       "    }\n",
       "\n",
       "    .dataframe thead th {\n",
       "        text-align: right;\n",
       "    }\n",
       "</style>\n",
       "<table border=\"1\" class=\"dataframe\">\n",
       "  <thead>\n",
       "    <tr style=\"text-align: right;\">\n",
       "      <th></th>\n",
       "      <th>filepaths</th>\n",
       "      <th>labels</th>\n",
       "    </tr>\n",
       "  </thead>\n",
       "  <tbody>\n",
       "    <tr>\n",
       "      <th>530</th>\n",
       "      <td>DATASET/TRAIN\\melanoma_cancer\\mel (215).jpg</td>\n",
       "      <td>melanoma_cancer</td>\n",
       "    </tr>\n",
       "    <tr>\n",
       "      <th>1565</th>\n",
       "      <td>DATASET/TRAIN\\vascular_lesion_cancer\\vas (155)...</td>\n",
       "      <td>vascular_lesion_cancer</td>\n",
       "    </tr>\n",
       "    <tr>\n",
       "      <th>123</th>\n",
       "      <td>DATASET/TRAIN\\cellulitis\\CELLUTUTIS (19).jpg</td>\n",
       "      <td>cellulitis</td>\n",
       "    </tr>\n",
       "    <tr>\n",
       "      <th>619</th>\n",
       "      <td>DATASET/TRAIN\\melanoma_cancer\\mel (296).jpg</td>\n",
       "      <td>melanoma_cancer</td>\n",
       "    </tr>\n",
       "    <tr>\n",
       "      <th>365</th>\n",
       "      <td>DATASET/TRAIN\\impetigo\\imperigo (34).jpeg</td>\n",
       "      <td>impetigo</td>\n",
       "    </tr>\n",
       "    <tr>\n",
       "      <th>...</th>\n",
       "      <td>...</td>\n",
       "      <td>...</td>\n",
       "    </tr>\n",
       "    <tr>\n",
       "      <th>1726</th>\n",
       "      <td>DATASET/TRAIN\\vascular_lesion_cancer\\vas (30).jpg</td>\n",
       "      <td>vascular_lesion_cancer</td>\n",
       "    </tr>\n",
       "    <tr>\n",
       "      <th>120</th>\n",
       "      <td>DATASET/TRAIN\\cellulitis\\CELLUTUTIS (18).jpeg</td>\n",
       "      <td>cellulitis</td>\n",
       "    </tr>\n",
       "    <tr>\n",
       "      <th>1668</th>\n",
       "      <td>DATASET/TRAIN\\vascular_lesion_cancer\\vas (248)...</td>\n",
       "      <td>vascular_lesion_cancer</td>\n",
       "    </tr>\n",
       "    <tr>\n",
       "      <th>416</th>\n",
       "      <td>DATASET/TRAIN\\melanoma_cancer\\mel (112).jpg</td>\n",
       "      <td>melanoma_cancer</td>\n",
       "    </tr>\n",
       "    <tr>\n",
       "      <th>1328</th>\n",
       "      <td>DATASET/TRAIN\\squamous_cell_carcinoma_cancer\\s...</td>\n",
       "      <td>squamous_cell_carcinoma_cancer</td>\n",
       "    </tr>\n",
       "  </tbody>\n",
       "</table>\n",
       "<p>190 rows × 2 columns</p>\n",
       "</div>"
      ],
      "text/plain": [
       "                                              filepaths  \\\n",
       "530         DATASET/TRAIN\\melanoma_cancer\\mel (215).jpg   \n",
       "1565  DATASET/TRAIN\\vascular_lesion_cancer\\vas (155)...   \n",
       "123        DATASET/TRAIN\\cellulitis\\CELLUTUTIS (19).jpg   \n",
       "619         DATASET/TRAIN\\melanoma_cancer\\mel (296).jpg   \n",
       "365           DATASET/TRAIN\\impetigo\\imperigo (34).jpeg   \n",
       "...                                                 ...   \n",
       "1726  DATASET/TRAIN\\vascular_lesion_cancer\\vas (30).jpg   \n",
       "120       DATASET/TRAIN\\cellulitis\\CELLUTUTIS (18).jpeg   \n",
       "1668  DATASET/TRAIN\\vascular_lesion_cancer\\vas (248)...   \n",
       "416         DATASET/TRAIN\\melanoma_cancer\\mel (112).jpg   \n",
       "1328  DATASET/TRAIN\\squamous_cell_carcinoma_cancer\\s...   \n",
       "\n",
       "                              labels  \n",
       "530                  melanoma_cancer  \n",
       "1565          vascular_lesion_cancer  \n",
       "123                       cellulitis  \n",
       "619                  melanoma_cancer  \n",
       "365                         impetigo  \n",
       "...                              ...  \n",
       "1726          vascular_lesion_cancer  \n",
       "120                       cellulitis  \n",
       "1668          vascular_lesion_cancer  \n",
       "416                  melanoma_cancer  \n",
       "1328  squamous_cell_carcinoma_cancer  \n",
       "\n",
       "[190 rows x 2 columns]"
      ]
     },
     "execution_count": 6,
     "metadata": {},
     "output_type": "execute_result"
    }
   ],
   "source": [
    "test_df"
   ]
  },
  {
   "cell_type": "code",
   "execution_count": 7,
   "id": "81e22280",
   "metadata": {
    "papermill": {
     "duration": 0.022607,
     "end_time": "2024-01-17T14:00:44.316094",
     "exception": false,
     "start_time": "2024-01-17T14:00:44.293487",
     "status": "completed"
    },
    "tags": []
   },
   "outputs": [
    {
     "data": {
      "text/plain": [
       "(190, 2)"
      ]
     },
     "execution_count": 7,
     "metadata": {},
     "output_type": "execute_result"
    }
   ],
   "source": [
    "test_df.shape"
   ]
  },
  {
   "cell_type": "code",
   "execution_count": 8,
   "id": "30114939",
   "metadata": {
    "papermill": {
     "duration": 0.022754,
     "end_time": "2024-01-17T14:00:44.353365",
     "exception": false,
     "start_time": "2024-01-17T14:00:44.330611",
     "status": "completed"
    },
    "tags": []
   },
   "outputs": [
    {
     "data": {
      "text/plain": [
       "(1522, 2)"
      ]
     },
     "execution_count": 8,
     "metadata": {},
     "output_type": "execute_result"
    }
   ],
   "source": [
    "train_df.shape"
   ]
  },
  {
   "cell_type": "code",
   "execution_count": 9,
   "id": "6ff494d7",
   "metadata": {
    "papermill": {
     "duration": 0.022551,
     "end_time": "2024-01-17T14:00:44.389961",
     "exception": false,
     "start_time": "2024-01-17T14:00:44.367410",
     "status": "completed"
    },
    "tags": []
   },
   "outputs": [
    {
     "data": {
      "text/plain": [
       "(191, 2)"
      ]
     },
     "execution_count": 9,
     "metadata": {},
     "output_type": "execute_result"
    }
   ],
   "source": [
    "valid_df.shape"
   ]
  },
  {
   "cell_type": "code",
   "execution_count": 10,
   "id": "8631b98d",
   "metadata": {
    "_kg_hide-output": true,
    "papermill": {
     "duration": 222.085763,
     "end_time": "2024-01-17T14:04:26.490181",
     "exception": false,
     "start_time": "2024-01-17T14:00:44.404418",
     "status": "completed"
    },
    "scrolled": true,
    "tags": []
   },
   "outputs": [
    {
     "name": "stdout",
     "output_type": "stream",
     "text": [
      "Epoch 1/2\n",
      "39/39 [==============================] - ETA: 0s - loss: 1.2630 - accuracy: 0.5957 \n",
      "Epoch 1: val_accuracy improved from -inf to 0.89529, saving model to best_model.h5\n",
      "39/39 [==============================] - 546s 12s/step - loss: 1.2630 - accuracy: 0.5957 - val_loss: 0.3640 - val_accuracy: 0.8953\n",
      "Epoch 2/2\n",
      "39/39 [==============================] - ETA: 0s - loss: 0.5189 - accuracy: 0.8199\n",
      "Epoch 2: val_accuracy improved from 0.89529 to 0.96335, saving model to best_model.h5\n",
      "39/39 [==============================] - 384s 10s/step - loss: 0.5189 - accuracy: 0.8199 - val_loss: 0.1445 - val_accuracy: 0.9634\n"
     ]
    }
   ],
   "source": [
    "import tensorflow as tf\n",
    "from tensorflow.keras.models import Sequential\n",
    "from tensorflow.keras.layers import Dense, Dropout, BatchNormalization\n",
    "from tensorflow.keras.callbacks import ModelCheckpoint\n",
    "\n",
    "# Assuming train_gen and valid_gen are your image data generators\n",
    "\n",
    "img_size = (224, 224)\n",
    "channels = 3\n",
    "img_shape = (img_size[0], img_size[1], channels)\n",
    "class_count = len(list(train_gen.class_indices.keys()))\n",
    "\n",
    "# Create pre-trained model\n",
    "base_model = tf.keras.applications.EfficientNetB3(include_top=False, weights=\"imagenet\", input_shape=img_shape, pooling='max')\n",
    "for layer in base_model.layers:\n",
    "    layer.trainable = False\n",
    "model = Sequential([\n",
    "    base_model,\n",
    "    BatchNormalization(),\n",
    "    Dense(256, activation='relu'),\n",
    "    Dropout(0.3),\n",
    "     Dense(64, activation='relu'),\n",
    "    Dropout(0.3),\n",
    "    Dense(class_count, activation='softmax')\n",
    "])\n",
    "\n",
    "optimizer = tf.keras.optimizers.Adam()\n",
    "model.compile(optimizer=optimizer, loss='categorical_crossentropy', metrics=['accuracy'])\n",
    "\n",
    "# Define filepath to save the best model\n",
    "filepath = 'best_model.h5'\n",
    "\n",
    "# Create ModelCheckpoint callback to save the best model based on validation accuracy\n",
    "checkpoint = ModelCheckpoint(filepath, monitor='val_accuracy', verbose=1, save_best_only=True, mode='max')\n",
    "# Train the model with the added callback\n",
    "history = model.fit(\n",
    "    x=train_gen,\n",
    "    epochs= 2,\n",
    "    verbose=1,\n",
    "    validation_data=valid_gen,\n",
    "    callbacks=[checkpoint]\n",
    ")"
   ]
  },
  {
   "cell_type": "code",
   "execution_count": 11,
   "id": "29be9c20-cb50-4632-8599-81a839d2c131",
   "metadata": {},
   "outputs": [
    {
     "name": "stdout",
     "output_type": "stream",
     "text": [
      "5/5 [==============================] - 52s 7s/step\n"
     ]
    }
   ],
   "source": [
    "# Generate predictions for the test set\n",
    "y_pred = model.predict(test_gen)\n"
   ]
  },
  {
   "cell_type": "code",
   "execution_count": 12,
   "id": "8af2f842-e1cd-4779-9a9f-f33c776f6cf1",
   "metadata": {},
   "outputs": [],
   "source": [
    "import numpy as np\n",
    "y_pred_classes = np.argmax(y_pred, axis=1)\n"
   ]
  },
  {
   "cell_type": "code",
   "execution_count": 13,
   "id": "24b526b4-626e-4d30-bba7-26446842d02b",
   "metadata": {},
   "outputs": [
    {
     "name": "stdout",
     "output_type": "stream",
     "text": [
      "              precision    recall  f1-score   support\n",
      "\n",
      "           0       1.00      1.00      1.00        12\n",
      "           1       1.00      0.36      0.53        11\n",
      "           2       1.00      1.00      1.00        12\n",
      "           3       1.00      1.00      1.00        12\n",
      "           4       1.00      1.00      1.00        41\n",
      "           5       1.00      0.57      0.73         7\n",
      "           6       0.81      1.00      0.89        34\n",
      "           7       0.76      0.87      0.81        15\n",
      "           8       1.00      1.00      1.00        46\n",
      "\n",
      "    accuracy                           0.94       190\n",
      "   macro avg       0.95      0.87      0.89       190\n",
      "weighted avg       0.95      0.94      0.93       190\n",
      "\n"
     ]
    }
   ],
   "source": [
    "from sklearn.metrics import confusion_matrix, classification_report\n",
    "import matplotlib.pyplot as plt\n",
    "\n",
    "# Confusion matrix\n",
    "cm = confusion_matrix(test_gen.classes, y_pred_classes)\n",
    "\n",
    "# Optional: Define a function to plot confusion matrix\n",
    "def plot_confusion_matrix(cm, classes, title='Confusion Matrix', cmap=plt.cm.Blues):\n",
    "    plt.imshow(cm, interpolation='nearest', cmap=cmap)\n",
    "    plt.title(title)\n",
    "    plt.colorbar()\n",
    "    tick_marks = np.arange(len(classes))\n",
    "    plt.xticks(tick_marks, classes, rotation=45)\n",
    "    plt.yticks(tick_marks, classes)\n",
    "    plt.ylabel('True label')\n",
    "    plt.xlabel('Predicted label')\n",
    "    plt.tight_layout()\n",
    "\n",
    "\n",
    "\n",
    "# Classification report\n",
    "print(classification_report(test_gen.classes, y_pred_classes))\n"
   ]
  },
  {
   "cell_type": "code",
   "execution_count": 14,
   "id": "126b119f-99e0-406c-9ffc-ebdf70cf34af",
   "metadata": {},
   "outputs": [
    {
     "data": {
      "image/png": "[encoded data removed]",
      "text/plain": [
       "<Figure size 1200x600 with 1 Axes>"
      ]
     },
     "metadata": {},
     "output_type": "display_data"
    },
    {
     "data": {
      "image/png": "[encoded data removed]",
      "text/plain": [
       "<Figure size 1200x600 with 1 Axes>"
      ]
     },
     "metadata": {},
     "output_type": "display_data"
    }
   ],
   "source": [
    "import matplotlib.pyplot as plt\n",
    "\n",
    "# Extract accuracy and loss values from the training history\n",
    "acc = history.history['accuracy']\n",
    "val_acc = history.history['val_accuracy']\n",
    "loss = history.history['loss']\n",
    "val_loss = history.history['val_loss']\n",
    "\n",
    "# Plot Accuracy\n",
    "plt.figure(figsize=(12, 6))\n",
    "plt.plot(acc, label='Training Accuracy', marker='o')\n",
    "plt.plot(val_acc, label='Validation Accuracy', marker='o')\n",
    "plt.title('Model Accuracy', fontsize=16)\n",
    "plt.xlabel('Epochs', fontsize=14)\n",
    "plt.ylabel('Accuracy', fontsize=14)\n",
    "plt.legend(loc='lower right', fontsize=12)\n",
    "plt.grid(True)\n",
    "plt.show()\n",
    "\n",
    "# Plot Loss\n",
    "plt.figure(figsize=(12, 6))\n",
    "plt.plot(loss, label='Training Loss', marker='o')\n",
    "plt.plot(val_loss, label='Validation Loss', marker='o')\n",
    "plt.title('Model Loss', fontsize=16)\n",
    "plt.xlabel('Epochs', fontsize=14)\n",
    "plt.ylabel('Loss', fontsize=14)\n",
    "plt.legend(loc='upper right', fontsize=12)\n",
    "plt.grid(True)\n",
    "plt.show()\n"
   ]
  },
  {
   "cell_type": "code",
   "execution_count": null,
   "id": "2b8be48f-b2fe-4bf2-972b-47087fcd3ee5",
   "metadata": {},
   "outputs": [],
   "source": []
  }
 ],
 "metadata": {
  "kaggle": {
   "accelerator": "nvidiaTeslaT4",
   "dataSources": [
    {
     "datasetId": 1544742,
     "sourceId": 2546969,
     "sourceType": "datasetVersion"
    }
   ],
   "dockerImageVersionId": 30636,
   "isGpuEnabled": true,
   "isInternetEnabled": true,
   "language": "python",
   "sourceType": "notebook"
  },
  "kernelspec": {
   "display_name": "Python 3 (ipykernel)",
   "language": "python",
   "name": "python3"
  },
  "language_info": {
   "codemirror_mode": {
    "name": "ipython",
    "version": 3
   },
   "file_extension": ".py",
   "mimetype": "text/x-python",
   "name": "python",
   "nbconvert_exporter": "python",
   "pygments_lexer": "ipython3",
   "version": "3.9.18"
  },
  "papermill": {
   "default_parameters": {},
   "duration": 830.996806,
   "end_time": "2024-01-17T14:14:09.188939",
   "environment_variables": {},
   "exception": null,
   "input_path": "__notebook__.ipynb",
   "output_path": "__notebook__.ipynb",
   "parameters": {},
   "start_time": "2024-01-17T14:00:18.192133",
   "version": "2.4.0"
  }
 },
 "nbformat": 4,
 "nbformat_minor": 5
}
